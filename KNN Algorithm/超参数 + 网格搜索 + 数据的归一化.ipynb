{
 "cells": [
  {
   "cell_type": "markdown",
   "metadata": {},
   "source": [
    "### 超参数"
   ]
  },
  {
   "cell_type": "code",
   "execution_count": 3,
   "metadata": {},
   "outputs": [],
   "source": [
    "import numpy as np\n",
    "from sklearn import datasets"
   ]
  },
  {
   "cell_type": "code",
   "execution_count": 4,
   "metadata": {},
   "outputs": [],
   "source": [
    "digits = datasets.load_digits()\n",
    "X = digits.data\n",
    "y = digits.target"
   ]
  },
  {
   "cell_type": "code",
   "execution_count": 13,
   "metadata": {},
   "outputs": [],
   "source": [
    "from sklearn.model_selection import train_test_split\n",
    "X_train, X_test, y_train, y_test = train_test_split(X, y, test_size=0.2)"
   ]
  },
  {
   "cell_type": "code",
   "execution_count": 8,
   "metadata": {},
   "outputs": [],
   "source": [
    "from sklearn.neighbors import KNeighborsClassifier\n",
    "knn_clf = KNeighborsClassifier(n_neighbors=3)\n"
   ]
  },
  {
   "cell_type": "code",
   "execution_count": 10,
   "metadata": {},
   "outputs": [
    {
     "data": {
      "text/plain": [
       "(1437, 64)"
      ]
     },
     "execution_count": 10,
     "metadata": {},
     "output_type": "execute_result"
    }
   ],
   "source": [
    "X_train.shape"
   ]
  },
  {
   "cell_type": "code",
   "execution_count": 11,
   "metadata": {},
   "outputs": [
    {
     "data": {
      "text/plain": [
       "(360, 64)"
      ]
     },
     "execution_count": 11,
     "metadata": {},
     "output_type": "execute_result"
    }
   ],
   "source": [
    "y_train.shape"
   ]
  },
  {
   "cell_type": "code",
   "execution_count": 15,
   "metadata": {
    "scrolled": true
   },
   "outputs": [
    {
     "data": {
      "text/plain": [
       "0.9861111111111112"
      ]
     },
     "execution_count": 15,
     "metadata": {},
     "output_type": "execute_result"
    }
   ],
   "source": [
    "knn_clf.fit(X_train, y_train)\n",
    "knn_clf.score(X_test, y_test)"
   ]
  },
  {
   "cell_type": "markdown",
   "metadata": {},
   "source": [
    "### 寻找最好的k"
   ]
  },
  {
   "cell_type": "code",
   "execution_count": 17,
   "metadata": {},
   "outputs": [
    {
     "name": "stdout",
     "output_type": "stream",
     "text": [
      "best_k =  1\n",
      "best_score =  0.9888888888888889\n"
     ]
    }
   ],
   "source": [
    "best_score = 0.0\n",
    "best_k = -1\n",
    "for  k in range(1, 11):\n",
    "    knn_clf = KNeighborsClassifier(n_neighbors=k)\n",
    "    knn_clf.fit(X_train, y_train)\n",
    "    score = knn_clf.score(X_test, y_test)\n",
    "    if score > best_score:\n",
    "        best_k = k\n",
    "        best_score = score\n",
    "\n",
    "print('best_k = ', best_k)\n",
    "print('best_score = ', best_score)"
   ]
  },
  {
   "cell_type": "markdown",
   "metadata": {},
   "source": [
    "### best method"
   ]
  },
  {
   "cell_type": "code",
   "execution_count": 18,
   "metadata": {},
   "outputs": [
    {
     "name": "stdout",
     "output_type": "stream",
     "text": [
      "best_k =  1\n",
      "best_score =  0.9888888888888889\n",
      "best_method =  uniform\n"
     ]
    }
   ],
   "source": [
    "best_method = ''\n",
    "best_score = 0.0\n",
    "best_k = -1\n",
    "for method in [\"uniform\", \"distance\"]:\n",
    "    for  k in range(1, 11):\n",
    "        knn_clf = KNeighborsClassifier(n_neighbors=k)\n",
    "        knn_clf.fit(X_train, y_train)\n",
    "        score = knn_clf.score(X_test, y_test)\n",
    "        if score > best_score:\n",
    "            best_k = k\n",
    "            best_score = score\n",
    "            best_method = method\n",
    "\n",
    "print('best_k = ', best_k)\n",
    "print('best_score = ', best_score)\n",
    "print('best_method = ', best_method)"
   ]
  },
  {
   "cell_type": "markdown",
   "metadata": {},
   "source": [
    "### 搜索明科夫斯基距离相应的p\n"
   ]
  },
  {
   "cell_type": "code",
   "execution_count": 19,
   "metadata": {},
   "outputs": [
    {
     "name": "stdout",
     "output_type": "stream",
     "text": [
      "best_k =  4\n",
      "best_score =  0.9916666666666667\n",
      "best_method =  distance\n"
     ]
    }
   ],
   "source": [
    "best_p = -1\n",
    "best_method = ''\n",
    "best_score = 0.0\n",
    "best_k = -1\n",
    "for method in [\"uniform\", \"distance\"]:\n",
    "    for  k in range(1, 11):\n",
    "        for p in range(1, 6): \n",
    "            knn_clf = KNeighborsClassifier(n_neighbors=k, weights=method, p=p)\n",
    "            knn_clf.fit(X_train, y_train)\n",
    "            score = knn_clf.score(X_test, y_test)\n",
    "            if score > best_score:\n",
    "                best_k = k\n",
    "                best_score = score\n",
    "                best_method = method\n",
    "\n",
    "print('best_k = ', best_k)\n",
    "print('best_score = ', best_score)\n",
    "print('best_method = ', best_method)"
   ]
  },
  {
   "cell_type": "code",
   "execution_count": 20,
   "metadata": {},
   "outputs": [
    {
     "name": "stdout",
     "output_type": "stream",
     "text": [
      "best_k =  4\n",
      "best_score =  0.9916666666666667\n",
      "best_method =  distance\n",
      "best_p 3\n"
     ]
    }
   ],
   "source": [
    "best_p = -1\n",
    "best_method = ''\n",
    "best_score = 0.0\n",
    "best_k = -1\n",
    "for method in [\"uniform\", \"distance\"]:\n",
    "    for  k in range(1, 11):\n",
    "        for p in range(1, 6): \n",
    "            knn_clf = KNeighborsClassifier(n_neighbors=k, weights=method, p=p)\n",
    "            knn_clf.fit(X_train, y_train)\n",
    "            score = knn_clf.score(X_test, y_test)\n",
    "            if score > best_score:\n",
    "                best_k = k\n",
    "                best_score = score\n",
    "                best_method = method\n",
    "                best_p = p\n",
    "\n",
    "print('best_k = ', best_k)\n",
    "print('best_score = ', best_score)\n",
    "print('best_method = ', best_method)\n",
    "print('best_p', best_p)"
   ]
  },
  {
   "cell_type": "markdown",
   "metadata": {},
   "source": [
    "### Grid Search"
   ]
  },
  {
   "cell_type": "code",
   "execution_count": 21,
   "metadata": {},
   "outputs": [],
   "source": [
    "params_grid = [\n",
    "    {\n",
    "        'weights': ['uniform'],\n",
    "        'n_neighbors': [i for i in range(1, 11)]\n",
    "    },\n",
    "    {\n",
    "        'weights': ['distance'],\n",
    "        'n_neighbors': [i for i in range(1, 11)],\n",
    "        'p': [i for i in range(1, 6)]\n",
    "    }\n",
    "]"
   ]
  },
  {
   "cell_type": "code",
   "execution_count": 42,
   "metadata": {},
   "outputs": [],
   "source": [
    "knn_clf = KNeighborsClassifier()"
   ]
  },
  {
   "cell_type": "code",
   "execution_count": 23,
   "metadata": {},
   "outputs": [],
   "source": [
    "from sklearn.model_selection import GridSearchCV"
   ]
  },
  {
   "cell_type": "code",
   "execution_count": 26,
   "metadata": {},
   "outputs": [],
   "source": [
    "grid_search = GridSearchCV(knn_clf, params_grid)"
   ]
  },
  {
   "cell_type": "code",
   "execution_count": 28,
   "metadata": {},
   "outputs": [
    {
     "name": "stdout",
     "output_type": "stream",
     "text": [
      "Wall time: 3min 31s\n"
     ]
    },
    {
     "data": {
      "text/plain": [
       "GridSearchCV(cv=None, error_score='raise',\n",
       "       estimator=KNeighborsClassifier(algorithm='auto', leaf_size=30, metric='minkowski',\n",
       "           metric_params=None, n_jobs=1, n_neighbors=5, p=2,\n",
       "           weights='uniform'),\n",
       "       fit_params=None, iid=True, n_jobs=1,\n",
       "       param_grid=[{'weights': ['uniform'], 'n_neighbors': [1, 2, 3, 4, 5, 6, 7, 8, 9, 10]}, {'weights': ['distance'], 'n_neighbors': [1, 2, 3, 4, 5, 6, 7, 8, 9, 10], 'p': [1, 2, 3, 4, 5]}],\n",
       "       pre_dispatch='2*n_jobs', refit=True, return_train_score='warn',\n",
       "       scoring=None, verbose=0)"
      ]
     },
     "execution_count": 28,
     "metadata": {},
     "output_type": "execute_result"
    }
   ],
   "source": [
    "%%time\n",
    "grid_search.fit(X_train, y_train)"
   ]
  },
  {
   "cell_type": "code",
   "execution_count": null,
   "metadata": {},
   "outputs": [],
   "source": [
    "X_train.shape"
   ]
  },
  {
   "cell_type": "code",
   "execution_count": 29,
   "metadata": {},
   "outputs": [
    {
     "data": {
      "text/plain": [
       "KNeighborsClassifier(algorithm='auto', leaf_size=30, metric='minkowski',\n",
       "           metric_params=None, n_jobs=1, n_neighbors=1, p=2,\n",
       "           weights='uniform')"
      ]
     },
     "execution_count": 29,
     "metadata": {},
     "output_type": "execute_result"
    }
   ],
   "source": [
    "grid_search.best_estimator_"
   ]
  },
  {
   "cell_type": "code",
   "execution_count": 30,
   "metadata": {},
   "outputs": [
    {
     "data": {
      "text/plain": [
       "0.9867780097425192"
      ]
     },
     "execution_count": 30,
     "metadata": {},
     "output_type": "execute_result"
    }
   ],
   "source": [
    "grid_search.best_score_"
   ]
  },
  {
   "cell_type": "code",
   "execution_count": 31,
   "metadata": {},
   "outputs": [
    {
     "data": {
      "text/plain": [
       "{'n_neighbors': 1, 'weights': 'uniform'}"
      ]
     },
     "execution_count": 31,
     "metadata": {},
     "output_type": "execute_result"
    }
   ],
   "source": [
    "grid_search.best_params_"
   ]
  },
  {
   "cell_type": "code",
   "execution_count": 32,
   "metadata": {},
   "outputs": [],
   "source": [
    "knn_clf = grid_search.best_estimator_"
   ]
  },
  {
   "cell_type": "code",
   "execution_count": 33,
   "metadata": {},
   "outputs": [],
   "source": [
    "y_predict = knn_clf.predict(X_test)"
   ]
  },
  {
   "cell_type": "code",
   "execution_count": 34,
   "metadata": {},
   "outputs": [
    {
     "ename": "ValueError",
     "evalue": "Expected 2D array, got 1D array instead:\narray=[3 8 0 4 4 9 0 9 8 9 5 0 4 0 3 8 4 8 3 1 7 7 3 1 5 5 0 7 3 3 4 2 3 3 0 1 1\n 7 5 4 6 8 9 3 4 8 1 0 8 6 7 2 9 3 4 6 2 6 7 9 6 8 2 9 8 3 6 8 4 6 9 3 3 8\n 8 8 5 9 2 3 1 1 6 1 6 6 5 0 6 6 4 8 6 3 2 0 1 4 6 7 7 6 3 8 5 8 3 1 7 9 1\n 6 5 6 6 4 3 9 3 0 6 5 0 6 0 1 2 5 2 8 3 6 9 4 9 6 2 9 5 6 8 3 6 6 1 9 0 7\n 1 4 9 5 2 4 8 6 2 8 8 4 6 0 2 4 1 3 1 1 2 6 1 6 4 7 2 3 1 7 9 5 5 8 4 7 1\n 7 3 2 4 5 5 5 3 1 1 5 3 1 3 4 0 8 2 3 9 0 6 5 3 6 1 8 8 5 6 6 7 0 8 7 7 5\n 5 9 9 5 9 4 4 4 7 6 1 9 0 3 8 2 0 1 7 2 0 8 2 7 9 2 0 8 2 0 5 4 7 6 1 6 2\n 7 6 2 7 6 2 3 4 5 8 4 7 7 2 5 5 0 2 8 6 2 2 7 1 2 4 4 6 6 1 9 0 8 1 2 0 4\n 8 1 0 2 7 0 8 3 1 5 0 2 6 6 9 4 5 4 5 7 1 4 8 7 2 7 7 2 5 3 1 2 7 4 9 3 5\n 5 3 9 9 4 9 9 9 7 5 0 1 5 9 0 2 0 4 0 3 2 8 6 1 6 3 8].\nReshape your data either using array.reshape(-1, 1) if your data has a single feature or array.reshape(1, -1) if it contains a single sample.",
     "output_type": "error",
     "traceback": [
      "\u001b[1;31m---------------------------------------------------------------------------\u001b[0m",
      "\u001b[1;31mValueError\u001b[0m                                Traceback (most recent call last)",
      "\u001b[1;32m<ipython-input-34-854a232cb176>\u001b[0m in \u001b[0;36m<module>\u001b[1;34m()\u001b[0m\n\u001b[1;32m----> 1\u001b[1;33m \u001b[0mknn_clf\u001b[0m\u001b[1;33m.\u001b[0m\u001b[0mscore\u001b[0m\u001b[1;33m(\u001b[0m\u001b[0my_predict\u001b[0m\u001b[1;33m,\u001b[0m \u001b[0my_test\u001b[0m\u001b[1;33m)\u001b[0m\u001b[1;33m\u001b[0m\u001b[0m\n\u001b[0m",
      "\u001b[1;32m~\\AppData\\Local\\Continuum\\anaconda3\\lib\\site-packages\\sklearn\\base.py\u001b[0m in \u001b[0;36mscore\u001b[1;34m(self, X, y, sample_weight)\u001b[0m\n\u001b[0;32m    347\u001b[0m         \"\"\"\n\u001b[0;32m    348\u001b[0m         \u001b[1;32mfrom\u001b[0m \u001b[1;33m.\u001b[0m\u001b[0mmetrics\u001b[0m \u001b[1;32mimport\u001b[0m \u001b[0maccuracy_score\u001b[0m\u001b[1;33m\u001b[0m\u001b[0m\n\u001b[1;32m--> 349\u001b[1;33m         \u001b[1;32mreturn\u001b[0m \u001b[0maccuracy_score\u001b[0m\u001b[1;33m(\u001b[0m\u001b[0my\u001b[0m\u001b[1;33m,\u001b[0m \u001b[0mself\u001b[0m\u001b[1;33m.\u001b[0m\u001b[0mpredict\u001b[0m\u001b[1;33m(\u001b[0m\u001b[0mX\u001b[0m\u001b[1;33m)\u001b[0m\u001b[1;33m,\u001b[0m \u001b[0msample_weight\u001b[0m\u001b[1;33m=\u001b[0m\u001b[0msample_weight\u001b[0m\u001b[1;33m)\u001b[0m\u001b[1;33m\u001b[0m\u001b[0m\n\u001b[0m\u001b[0;32m    350\u001b[0m \u001b[1;33m\u001b[0m\u001b[0m\n\u001b[0;32m    351\u001b[0m \u001b[1;33m\u001b[0m\u001b[0m\n",
      "\u001b[1;32m~\\AppData\\Local\\Continuum\\anaconda3\\lib\\site-packages\\sklearn\\neighbors\\classification.py\u001b[0m in \u001b[0;36mpredict\u001b[1;34m(self, X)\u001b[0m\n\u001b[0;32m    141\u001b[0m             \u001b[0mClass\u001b[0m \u001b[0mlabels\u001b[0m \u001b[1;32mfor\u001b[0m \u001b[0meach\u001b[0m \u001b[0mdata\u001b[0m \u001b[0msample\u001b[0m\u001b[1;33m.\u001b[0m\u001b[1;33m\u001b[0m\u001b[0m\n\u001b[0;32m    142\u001b[0m         \"\"\"\n\u001b[1;32m--> 143\u001b[1;33m         \u001b[0mX\u001b[0m \u001b[1;33m=\u001b[0m \u001b[0mcheck_array\u001b[0m\u001b[1;33m(\u001b[0m\u001b[0mX\u001b[0m\u001b[1;33m,\u001b[0m \u001b[0maccept_sparse\u001b[0m\u001b[1;33m=\u001b[0m\u001b[1;34m'csr'\u001b[0m\u001b[1;33m)\u001b[0m\u001b[1;33m\u001b[0m\u001b[0m\n\u001b[0m\u001b[0;32m    144\u001b[0m \u001b[1;33m\u001b[0m\u001b[0m\n\u001b[0;32m    145\u001b[0m         \u001b[0mneigh_dist\u001b[0m\u001b[1;33m,\u001b[0m \u001b[0mneigh_ind\u001b[0m \u001b[1;33m=\u001b[0m \u001b[0mself\u001b[0m\u001b[1;33m.\u001b[0m\u001b[0mkneighbors\u001b[0m\u001b[1;33m(\u001b[0m\u001b[0mX\u001b[0m\u001b[1;33m)\u001b[0m\u001b[1;33m\u001b[0m\u001b[0m\n",
      "\u001b[1;32m~\\AppData\\Local\\Continuum\\anaconda3\\lib\\site-packages\\sklearn\\utils\\validation.py\u001b[0m in \u001b[0;36mcheck_array\u001b[1;34m(array, accept_sparse, dtype, order, copy, force_all_finite, ensure_2d, allow_nd, ensure_min_samples, ensure_min_features, warn_on_dtype, estimator)\u001b[0m\n\u001b[0;32m    439\u001b[0m                     \u001b[1;34m\"Reshape your data either using array.reshape(-1, 1) if \"\u001b[0m\u001b[1;33m\u001b[0m\u001b[0m\n\u001b[0;32m    440\u001b[0m                     \u001b[1;34m\"your data has a single feature or array.reshape(1, -1) \"\u001b[0m\u001b[1;33m\u001b[0m\u001b[0m\n\u001b[1;32m--> 441\u001b[1;33m                     \"if it contains a single sample.\".format(array))\n\u001b[0m\u001b[0;32m    442\u001b[0m             \u001b[0marray\u001b[0m \u001b[1;33m=\u001b[0m \u001b[0mnp\u001b[0m\u001b[1;33m.\u001b[0m\u001b[0matleast_2d\u001b[0m\u001b[1;33m(\u001b[0m\u001b[0marray\u001b[0m\u001b[1;33m)\u001b[0m\u001b[1;33m\u001b[0m\u001b[0m\n\u001b[0;32m    443\u001b[0m             \u001b[1;31m# To ensure that array flags are maintained\u001b[0m\u001b[1;33m\u001b[0m\u001b[1;33m\u001b[0m\u001b[0m\n",
      "\u001b[1;31mValueError\u001b[0m: Expected 2D array, got 1D array instead:\narray=[3 8 0 4 4 9 0 9 8 9 5 0 4 0 3 8 4 8 3 1 7 7 3 1 5 5 0 7 3 3 4 2 3 3 0 1 1\n 7 5 4 6 8 9 3 4 8 1 0 8 6 7 2 9 3 4 6 2 6 7 9 6 8 2 9 8 3 6 8 4 6 9 3 3 8\n 8 8 5 9 2 3 1 1 6 1 6 6 5 0 6 6 4 8 6 3 2 0 1 4 6 7 7 6 3 8 5 8 3 1 7 9 1\n 6 5 6 6 4 3 9 3 0 6 5 0 6 0 1 2 5 2 8 3 6 9 4 9 6 2 9 5 6 8 3 6 6 1 9 0 7\n 1 4 9 5 2 4 8 6 2 8 8 4 6 0 2 4 1 3 1 1 2 6 1 6 4 7 2 3 1 7 9 5 5 8 4 7 1\n 7 3 2 4 5 5 5 3 1 1 5 3 1 3 4 0 8 2 3 9 0 6 5 3 6 1 8 8 5 6 6 7 0 8 7 7 5\n 5 9 9 5 9 4 4 4 7 6 1 9 0 3 8 2 0 1 7 2 0 8 2 7 9 2 0 8 2 0 5 4 7 6 1 6 2\n 7 6 2 7 6 2 3 4 5 8 4 7 7 2 5 5 0 2 8 6 2 2 7 1 2 4 4 6 6 1 9 0 8 1 2 0 4\n 8 1 0 2 7 0 8 3 1 5 0 2 6 6 9 4 5 4 5 7 1 4 8 7 2 7 7 2 5 3 1 2 7 4 9 3 5\n 5 3 9 9 4 9 9 9 7 5 0 1 5 9 0 2 0 4 0 3 2 8 6 1 6 3 8].\nReshape your data either using array.reshape(-1, 1) if your data has a single feature or array.reshape(1, -1) if it contains a single sample."
     ]
    }
   ],
   "source": [
    "knn_clf.score(y_predict, y_test)"
   ]
  },
  {
   "cell_type": "code",
   "execution_count": 35,
   "metadata": {},
   "outputs": [
    {
     "ename": "ValueError",
     "evalue": "Expected 2D array, got 1D array instead:\narray=[3 8 0 4 4 9 0 9 8 9 9 0 4 0 3 8 4 8 3 1 7 7 3 1 5 5 0 7 3 3 4 2 3 3 0 1 1\n 7 5 4 6 8 9 3 4 8 8 0 8 6 7 2 9 3 4 6 2 6 7 9 6 8 2 9 8 3 6 8 4 6 9 3 3 8\n 8 8 5 9 2 3 1 1 6 1 6 6 5 0 6 6 4 8 6 3 2 0 1 4 6 7 7 6 3 8 5 8 3 1 7 9 1\n 6 5 6 6 4 3 9 3 0 6 5 0 6 0 1 2 5 2 8 3 6 9 4 9 6 2 9 5 6 8 3 6 6 1 9 0 7\n 1 4 9 5 2 4 8 6 2 8 8 4 6 0 2 4 1 3 1 1 2 6 1 6 4 7 2 3 1 7 9 5 5 8 4 7 1\n 7 3 2 4 5 5 5 3 1 1 5 3 1 3 4 0 8 2 3 9 0 6 5 3 5 1 8 8 5 6 6 7 0 8 7 7 5\n 5 9 9 5 9 4 4 4 7 6 1 9 0 3 8 2 0 8 7 2 0 8 2 7 9 2 0 8 2 0 5 4 7 6 1 6 2\n 7 6 2 7 6 2 3 4 5 8 4 7 7 2 5 5 0 2 8 6 2 2 7 1 2 4 4 6 6 1 9 0 8 1 2 0 4\n 8 1 0 2 7 0 8 3 1 5 0 2 6 6 9 4 5 4 5 7 1 4 8 7 2 7 7 2 5 3 1 2 7 4 9 3 5\n 5 3 9 9 4 9 9 9 7 5 0 1 5 9 0 2 0 4 0 3 2 8 6 1 6 3 8].\nReshape your data either using array.reshape(-1, 1) if your data has a single feature or array.reshape(1, -1) if it contains a single sample.",
     "output_type": "error",
     "traceback": [
      "\u001b[1;31m---------------------------------------------------------------------------\u001b[0m",
      "\u001b[1;31mValueError\u001b[0m                                Traceback (most recent call last)",
      "\u001b[1;32m<ipython-input-35-a8102de51ec6>\u001b[0m in \u001b[0;36m<module>\u001b[1;34m()\u001b[0m\n\u001b[1;32m----> 1\u001b[1;33m \u001b[0mknn_clf\u001b[0m\u001b[1;33m.\u001b[0m\u001b[0mscore\u001b[0m\u001b[1;33m(\u001b[0m\u001b[0my_test\u001b[0m\u001b[1;33m,\u001b[0m \u001b[0my_predict\u001b[0m\u001b[1;33m)\u001b[0m\u001b[1;33m\u001b[0m\u001b[0m\n\u001b[0m",
      "\u001b[1;32m~\\AppData\\Local\\Continuum\\anaconda3\\lib\\site-packages\\sklearn\\base.py\u001b[0m in \u001b[0;36mscore\u001b[1;34m(self, X, y, sample_weight)\u001b[0m\n\u001b[0;32m    347\u001b[0m         \"\"\"\n\u001b[0;32m    348\u001b[0m         \u001b[1;32mfrom\u001b[0m \u001b[1;33m.\u001b[0m\u001b[0mmetrics\u001b[0m \u001b[1;32mimport\u001b[0m \u001b[0maccuracy_score\u001b[0m\u001b[1;33m\u001b[0m\u001b[0m\n\u001b[1;32m--> 349\u001b[1;33m         \u001b[1;32mreturn\u001b[0m \u001b[0maccuracy_score\u001b[0m\u001b[1;33m(\u001b[0m\u001b[0my\u001b[0m\u001b[1;33m,\u001b[0m \u001b[0mself\u001b[0m\u001b[1;33m.\u001b[0m\u001b[0mpredict\u001b[0m\u001b[1;33m(\u001b[0m\u001b[0mX\u001b[0m\u001b[1;33m)\u001b[0m\u001b[1;33m,\u001b[0m \u001b[0msample_weight\u001b[0m\u001b[1;33m=\u001b[0m\u001b[0msample_weight\u001b[0m\u001b[1;33m)\u001b[0m\u001b[1;33m\u001b[0m\u001b[0m\n\u001b[0m\u001b[0;32m    350\u001b[0m \u001b[1;33m\u001b[0m\u001b[0m\n\u001b[0;32m    351\u001b[0m \u001b[1;33m\u001b[0m\u001b[0m\n",
      "\u001b[1;32m~\\AppData\\Local\\Continuum\\anaconda3\\lib\\site-packages\\sklearn\\neighbors\\classification.py\u001b[0m in \u001b[0;36mpredict\u001b[1;34m(self, X)\u001b[0m\n\u001b[0;32m    141\u001b[0m             \u001b[0mClass\u001b[0m \u001b[0mlabels\u001b[0m \u001b[1;32mfor\u001b[0m \u001b[0meach\u001b[0m \u001b[0mdata\u001b[0m \u001b[0msample\u001b[0m\u001b[1;33m.\u001b[0m\u001b[1;33m\u001b[0m\u001b[0m\n\u001b[0;32m    142\u001b[0m         \"\"\"\n\u001b[1;32m--> 143\u001b[1;33m         \u001b[0mX\u001b[0m \u001b[1;33m=\u001b[0m \u001b[0mcheck_array\u001b[0m\u001b[1;33m(\u001b[0m\u001b[0mX\u001b[0m\u001b[1;33m,\u001b[0m \u001b[0maccept_sparse\u001b[0m\u001b[1;33m=\u001b[0m\u001b[1;34m'csr'\u001b[0m\u001b[1;33m)\u001b[0m\u001b[1;33m\u001b[0m\u001b[0m\n\u001b[0m\u001b[0;32m    144\u001b[0m \u001b[1;33m\u001b[0m\u001b[0m\n\u001b[0;32m    145\u001b[0m         \u001b[0mneigh_dist\u001b[0m\u001b[1;33m,\u001b[0m \u001b[0mneigh_ind\u001b[0m \u001b[1;33m=\u001b[0m \u001b[0mself\u001b[0m\u001b[1;33m.\u001b[0m\u001b[0mkneighbors\u001b[0m\u001b[1;33m(\u001b[0m\u001b[0mX\u001b[0m\u001b[1;33m)\u001b[0m\u001b[1;33m\u001b[0m\u001b[0m\n",
      "\u001b[1;32m~\\AppData\\Local\\Continuum\\anaconda3\\lib\\site-packages\\sklearn\\utils\\validation.py\u001b[0m in \u001b[0;36mcheck_array\u001b[1;34m(array, accept_sparse, dtype, order, copy, force_all_finite, ensure_2d, allow_nd, ensure_min_samples, ensure_min_features, warn_on_dtype, estimator)\u001b[0m\n\u001b[0;32m    439\u001b[0m                     \u001b[1;34m\"Reshape your data either using array.reshape(-1, 1) if \"\u001b[0m\u001b[1;33m\u001b[0m\u001b[0m\n\u001b[0;32m    440\u001b[0m                     \u001b[1;34m\"your data has a single feature or array.reshape(1, -1) \"\u001b[0m\u001b[1;33m\u001b[0m\u001b[0m\n\u001b[1;32m--> 441\u001b[1;33m                     \"if it contains a single sample.\".format(array))\n\u001b[0m\u001b[0;32m    442\u001b[0m             \u001b[0marray\u001b[0m \u001b[1;33m=\u001b[0m \u001b[0mnp\u001b[0m\u001b[1;33m.\u001b[0m\u001b[0matleast_2d\u001b[0m\u001b[1;33m(\u001b[0m\u001b[0marray\u001b[0m\u001b[1;33m)\u001b[0m\u001b[1;33m\u001b[0m\u001b[0m\n\u001b[0;32m    443\u001b[0m             \u001b[1;31m# To ensure that array flags are maintained\u001b[0m\u001b[1;33m\u001b[0m\u001b[1;33m\u001b[0m\u001b[0m\n",
      "\u001b[1;31mValueError\u001b[0m: Expected 2D array, got 1D array instead:\narray=[3 8 0 4 4 9 0 9 8 9 9 0 4 0 3 8 4 8 3 1 7 7 3 1 5 5 0 7 3 3 4 2 3 3 0 1 1\n 7 5 4 6 8 9 3 4 8 8 0 8 6 7 2 9 3 4 6 2 6 7 9 6 8 2 9 8 3 6 8 4 6 9 3 3 8\n 8 8 5 9 2 3 1 1 6 1 6 6 5 0 6 6 4 8 6 3 2 0 1 4 6 7 7 6 3 8 5 8 3 1 7 9 1\n 6 5 6 6 4 3 9 3 0 6 5 0 6 0 1 2 5 2 8 3 6 9 4 9 6 2 9 5 6 8 3 6 6 1 9 0 7\n 1 4 9 5 2 4 8 6 2 8 8 4 6 0 2 4 1 3 1 1 2 6 1 6 4 7 2 3 1 7 9 5 5 8 4 7 1\n 7 3 2 4 5 5 5 3 1 1 5 3 1 3 4 0 8 2 3 9 0 6 5 3 5 1 8 8 5 6 6 7 0 8 7 7 5\n 5 9 9 5 9 4 4 4 7 6 1 9 0 3 8 2 0 8 7 2 0 8 2 7 9 2 0 8 2 0 5 4 7 6 1 6 2\n 7 6 2 7 6 2 3 4 5 8 4 7 7 2 5 5 0 2 8 6 2 2 7 1 2 4 4 6 6 1 9 0 8 1 2 0 4\n 8 1 0 2 7 0 8 3 1 5 0 2 6 6 9 4 5 4 5 7 1 4 8 7 2 7 7 2 5 3 1 2 7 4 9 3 5\n 5 3 9 9 4 9 9 9 7 5 0 1 5 9 0 2 0 4 0 3 2 8 6 1 6 3 8].\nReshape your data either using array.reshape(-1, 1) if your data has a single feature or array.reshape(1, -1) if it contains a single sample."
     ]
    }
   ],
   "source": [
    "knn_clf.score(y_test, y_predict)"
   ]
  },
  {
   "cell_type": "code",
   "execution_count": 36,
   "metadata": {},
   "outputs": [
    {
     "data": {
      "text/plain": [
       "(360,)"
      ]
     },
     "execution_count": 36,
     "metadata": {},
     "output_type": "execute_result"
    }
   ],
   "source": [
    "y_test.shape\n",
    "y_predict.shape"
   ]
  },
  {
   "cell_type": "code",
   "execution_count": 37,
   "metadata": {},
   "outputs": [
    {
     "data": {
      "text/plain": [
       "(360,)"
      ]
     },
     "execution_count": 37,
     "metadata": {},
     "output_type": "execute_result"
    }
   ],
   "source": [
    "y_test.shape"
   ]
  },
  {
   "cell_type": "code",
   "execution_count": 38,
   "metadata": {},
   "outputs": [
    {
     "data": {
      "text/plain": [
       "(360,)"
      ]
     },
     "execution_count": 38,
     "metadata": {},
     "output_type": "execute_result"
    }
   ],
   "source": [
    "y_predict.shape"
   ]
  },
  {
   "cell_type": "code",
   "execution_count": 39,
   "metadata": {},
   "outputs": [
    {
     "ename": "ValueError",
     "evalue": "Expected 2D array, got 1D array instead:\narray=[3 8 0 4 4 9 0 9 8 9 9 0 4 0 3 8 4 8 3 1 7 7 3 1 5 5 0 7 3 3 4 2 3 3 0 1 1\n 7 5 4 6 8 9 3 4 8 8 0 8 6 7 2 9 3 4 6 2 6 7 9 6 8 2 9 8 3 6 8 4 6 9 3 3 8\n 8 8 5 9 2 3 1 1 6 1 6 6 5 0 6 6 4 8 6 3 2 0 1 4 6 7 7 6 3 8 5 8 3 1 7 9 1\n 6 5 6 6 4 3 9 3 0 6 5 0 6 0 1 2 5 2 8 3 6 9 4 9 6 2 9 5 6 8 3 6 6 1 9 0 7\n 1 4 9 5 2 4 8 6 2 8 8 4 6 0 2 4 1 3 1 1 2 6 1 6 4 7 2 3 1 7 9 5 5 8 4 7 1\n 7 3 2 4 5 5 5 3 1 1 5 3 1 3 4 0 8 2 3 9 0 6 5 3 5 1 8 8 5 6 6 7 0 8 7 7 5\n 5 9 9 5 9 4 4 4 7 6 1 9 0 3 8 2 0 8 7 2 0 8 2 7 9 2 0 8 2 0 5 4 7 6 1 6 2\n 7 6 2 7 6 2 3 4 5 8 4 7 7 2 5 5 0 2 8 6 2 2 7 1 2 4 4 6 6 1 9 0 8 1 2 0 4\n 8 1 0 2 7 0 8 3 1 5 0 2 6 6 9 4 5 4 5 7 1 4 8 7 2 7 7 2 5 3 1 2 7 4 9 3 5\n 5 3 9 9 4 9 9 9 7 5 0 1 5 9 0 2 0 4 0 3 2 8 6 1 6 3 8].\nReshape your data either using array.reshape(-1, 1) if your data has a single feature or array.reshape(1, -1) if it contains a single sample.",
     "output_type": "error",
     "traceback": [
      "\u001b[1;31m---------------------------------------------------------------------------\u001b[0m",
      "\u001b[1;31mValueError\u001b[0m                                Traceback (most recent call last)",
      "\u001b[1;32m<ipython-input-39-54022cb95cc2>\u001b[0m in \u001b[0;36m<module>\u001b[1;34m()\u001b[0m\n\u001b[1;32m----> 1\u001b[1;33m \u001b[0mknn_clf\u001b[0m\u001b[1;33m.\u001b[0m\u001b[0mscore\u001b[0m\u001b[1;33m(\u001b[0m\u001b[0mnp\u001b[0m\u001b[1;33m.\u001b[0m\u001b[0marray\u001b[0m\u001b[1;33m(\u001b[0m\u001b[0my_test\u001b[0m\u001b[1;33m)\u001b[0m\u001b[1;33m,\u001b[0m \u001b[0mnp\u001b[0m\u001b[1;33m.\u001b[0m\u001b[0marray\u001b[0m\u001b[1;33m(\u001b[0m\u001b[0my_predict\u001b[0m\u001b[1;33m)\u001b[0m\u001b[1;33m)\u001b[0m\u001b[1;33m\u001b[0m\u001b[0m\n\u001b[0m",
      "\u001b[1;32m~\\AppData\\Local\\Continuum\\anaconda3\\lib\\site-packages\\sklearn\\base.py\u001b[0m in \u001b[0;36mscore\u001b[1;34m(self, X, y, sample_weight)\u001b[0m\n\u001b[0;32m    347\u001b[0m         \"\"\"\n\u001b[0;32m    348\u001b[0m         \u001b[1;32mfrom\u001b[0m \u001b[1;33m.\u001b[0m\u001b[0mmetrics\u001b[0m \u001b[1;32mimport\u001b[0m \u001b[0maccuracy_score\u001b[0m\u001b[1;33m\u001b[0m\u001b[0m\n\u001b[1;32m--> 349\u001b[1;33m         \u001b[1;32mreturn\u001b[0m \u001b[0maccuracy_score\u001b[0m\u001b[1;33m(\u001b[0m\u001b[0my\u001b[0m\u001b[1;33m,\u001b[0m \u001b[0mself\u001b[0m\u001b[1;33m.\u001b[0m\u001b[0mpredict\u001b[0m\u001b[1;33m(\u001b[0m\u001b[0mX\u001b[0m\u001b[1;33m)\u001b[0m\u001b[1;33m,\u001b[0m \u001b[0msample_weight\u001b[0m\u001b[1;33m=\u001b[0m\u001b[0msample_weight\u001b[0m\u001b[1;33m)\u001b[0m\u001b[1;33m\u001b[0m\u001b[0m\n\u001b[0m\u001b[0;32m    350\u001b[0m \u001b[1;33m\u001b[0m\u001b[0m\n\u001b[0;32m    351\u001b[0m \u001b[1;33m\u001b[0m\u001b[0m\n",
      "\u001b[1;32m~\\AppData\\Local\\Continuum\\anaconda3\\lib\\site-packages\\sklearn\\neighbors\\classification.py\u001b[0m in \u001b[0;36mpredict\u001b[1;34m(self, X)\u001b[0m\n\u001b[0;32m    141\u001b[0m             \u001b[0mClass\u001b[0m \u001b[0mlabels\u001b[0m \u001b[1;32mfor\u001b[0m \u001b[0meach\u001b[0m \u001b[0mdata\u001b[0m \u001b[0msample\u001b[0m\u001b[1;33m.\u001b[0m\u001b[1;33m\u001b[0m\u001b[0m\n\u001b[0;32m    142\u001b[0m         \"\"\"\n\u001b[1;32m--> 143\u001b[1;33m         \u001b[0mX\u001b[0m \u001b[1;33m=\u001b[0m \u001b[0mcheck_array\u001b[0m\u001b[1;33m(\u001b[0m\u001b[0mX\u001b[0m\u001b[1;33m,\u001b[0m \u001b[0maccept_sparse\u001b[0m\u001b[1;33m=\u001b[0m\u001b[1;34m'csr'\u001b[0m\u001b[1;33m)\u001b[0m\u001b[1;33m\u001b[0m\u001b[0m\n\u001b[0m\u001b[0;32m    144\u001b[0m \u001b[1;33m\u001b[0m\u001b[0m\n\u001b[0;32m    145\u001b[0m         \u001b[0mneigh_dist\u001b[0m\u001b[1;33m,\u001b[0m \u001b[0mneigh_ind\u001b[0m \u001b[1;33m=\u001b[0m \u001b[0mself\u001b[0m\u001b[1;33m.\u001b[0m\u001b[0mkneighbors\u001b[0m\u001b[1;33m(\u001b[0m\u001b[0mX\u001b[0m\u001b[1;33m)\u001b[0m\u001b[1;33m\u001b[0m\u001b[0m\n",
      "\u001b[1;32m~\\AppData\\Local\\Continuum\\anaconda3\\lib\\site-packages\\sklearn\\utils\\validation.py\u001b[0m in \u001b[0;36mcheck_array\u001b[1;34m(array, accept_sparse, dtype, order, copy, force_all_finite, ensure_2d, allow_nd, ensure_min_samples, ensure_min_features, warn_on_dtype, estimator)\u001b[0m\n\u001b[0;32m    439\u001b[0m                     \u001b[1;34m\"Reshape your data either using array.reshape(-1, 1) if \"\u001b[0m\u001b[1;33m\u001b[0m\u001b[0m\n\u001b[0;32m    440\u001b[0m                     \u001b[1;34m\"your data has a single feature or array.reshape(1, -1) \"\u001b[0m\u001b[1;33m\u001b[0m\u001b[0m\n\u001b[1;32m--> 441\u001b[1;33m                     \"if it contains a single sample.\".format(array))\n\u001b[0m\u001b[0;32m    442\u001b[0m             \u001b[0marray\u001b[0m \u001b[1;33m=\u001b[0m \u001b[0mnp\u001b[0m\u001b[1;33m.\u001b[0m\u001b[0matleast_2d\u001b[0m\u001b[1;33m(\u001b[0m\u001b[0marray\u001b[0m\u001b[1;33m)\u001b[0m\u001b[1;33m\u001b[0m\u001b[0m\n\u001b[0;32m    443\u001b[0m             \u001b[1;31m# To ensure that array flags are maintained\u001b[0m\u001b[1;33m\u001b[0m\u001b[1;33m\u001b[0m\u001b[0m\n",
      "\u001b[1;31mValueError\u001b[0m: Expected 2D array, got 1D array instead:\narray=[3 8 0 4 4 9 0 9 8 9 9 0 4 0 3 8 4 8 3 1 7 7 3 1 5 5 0 7 3 3 4 2 3 3 0 1 1\n 7 5 4 6 8 9 3 4 8 8 0 8 6 7 2 9 3 4 6 2 6 7 9 6 8 2 9 8 3 6 8 4 6 9 3 3 8\n 8 8 5 9 2 3 1 1 6 1 6 6 5 0 6 6 4 8 6 3 2 0 1 4 6 7 7 6 3 8 5 8 3 1 7 9 1\n 6 5 6 6 4 3 9 3 0 6 5 0 6 0 1 2 5 2 8 3 6 9 4 9 6 2 9 5 6 8 3 6 6 1 9 0 7\n 1 4 9 5 2 4 8 6 2 8 8 4 6 0 2 4 1 3 1 1 2 6 1 6 4 7 2 3 1 7 9 5 5 8 4 7 1\n 7 3 2 4 5 5 5 3 1 1 5 3 1 3 4 0 8 2 3 9 0 6 5 3 5 1 8 8 5 6 6 7 0 8 7 7 5\n 5 9 9 5 9 4 4 4 7 6 1 9 0 3 8 2 0 8 7 2 0 8 2 7 9 2 0 8 2 0 5 4 7 6 1 6 2\n 7 6 2 7 6 2 3 4 5 8 4 7 7 2 5 5 0 2 8 6 2 2 7 1 2 4 4 6 6 1 9 0 8 1 2 0 4\n 8 1 0 2 7 0 8 3 1 5 0 2 6 6 9 4 5 4 5 7 1 4 8 7 2 7 7 2 5 3 1 2 7 4 9 3 5\n 5 3 9 9 4 9 9 9 7 5 0 1 5 9 0 2 0 4 0 3 2 8 6 1 6 3 8].\nReshape your data either using array.reshape(-1, 1) if your data has a single feature or array.reshape(1, -1) if it contains a single sample."
     ]
    }
   ],
   "source": [
    "knn_clf.score(np.array(y_test), np.array(y_predict))"
   ]
  },
  {
   "cell_type": "code",
   "execution_count": 40,
   "metadata": {},
   "outputs": [
    {
     "data": {
      "text/plain": [
       "KNeighborsClassifier(algorithm='auto', leaf_size=30, metric='minkowski',\n",
       "           metric_params=None, n_jobs=1, n_neighbors=1, p=2,\n",
       "           weights='uniform')"
      ]
     },
     "execution_count": 40,
     "metadata": {},
     "output_type": "execute_result"
    }
   ],
   "source": [
    "knn_clf"
   ]
  },
  {
   "cell_type": "code",
   "execution_count": 47,
   "metadata": {},
   "outputs": [
    {
     "name": "stdout",
     "output_type": "stream",
     "text": [
      "Fitting 3 folds for each of 60 candidates, totalling 180 fits\n"
     ]
    },
    {
     "name": "stderr",
     "output_type": "stream",
     "text": [
      "[Parallel(n_jobs=-1)]: Done   2 tasks      | elapsed:    1.2s\n",
      "[Parallel(n_jobs=-1)]: Done   9 tasks      | elapsed:    3.1s\n",
      "[Parallel(n_jobs=-1)]: Done  16 tasks      | elapsed:    3.3s\n",
      "[Parallel(n_jobs=-1)]: Done  25 tasks      | elapsed:    3.8s\n",
      "[Parallel(n_jobs=-1)]: Done  34 tasks      | elapsed:    4.0s\n",
      "[Parallel(n_jobs=-1)]: Done  45 tasks      | elapsed:    5.6s\n",
      "[Parallel(n_jobs=-1)]: Done  56 tasks      | elapsed:    9.2s\n",
      "[Parallel(n_jobs=-1)]: Done  69 tasks      | elapsed:   13.2s\n",
      "[Parallel(n_jobs=-1)]: Done  82 tasks      | elapsed:   17.8s\n",
      "[Parallel(n_jobs=-1)]: Done  97 tasks      | elapsed:   22.2s\n",
      "[Parallel(n_jobs=-1)]: Done 112 tasks      | elapsed:   26.7s\n",
      "[Parallel(n_jobs=-1)]: Done 129 tasks      | elapsed:   32.1s\n",
      "[Parallel(n_jobs=-1)]: Done 146 tasks      | elapsed:   37.6s\n",
      "[Parallel(n_jobs=-1)]: Done 165 tasks      | elapsed:   42.8s\n"
     ]
    },
    {
     "name": "stdout",
     "output_type": "stream",
     "text": [
      "Wall time: 51.2 s\n"
     ]
    },
    {
     "name": "stderr",
     "output_type": "stream",
     "text": [
      "[Parallel(n_jobs=-1)]: Done 180 out of 180 | elapsed:   50.2s finished\n"
     ]
    }
   ],
   "source": [
    "%%time\n",
    "grid_search = GridSearchCV(knn_clf, params_grid, n_jobs=-1, verbose=10)\n",
    "grid_search.fit(X_train, y_train)"
   ]
  },
  {
   "cell_type": "code",
   "execution_count": 46,
   "metadata": {},
   "outputs": [
    {
     "data": {
      "text/plain": [
       "KNeighborsClassifier(algorithm='auto', leaf_size=30, metric='minkowski',\n",
       "           metric_params=None, n_jobs=1, n_neighbors=1, p=2,\n",
       "           weights='uniform')"
      ]
     },
     "execution_count": 46,
     "metadata": {},
     "output_type": "execute_result"
    }
   ],
   "source": [
    "grid_search.best_estimator_"
   ]
  },
  {
   "cell_type": "code",
   "execution_count": 48,
   "metadata": {},
   "outputs": [],
   "source": [
    "knn_clf = grid_search.best_estimator_\n",
    "y_predict = knn_clf.predict(X_train)"
   ]
  },
  {
   "cell_type": "code",
   "execution_count": 52,
   "metadata": {},
   "outputs": [
    {
     "data": {
      "text/plain": [
       "0.9888888888888889"
      ]
     },
     "execution_count": 52,
     "metadata": {},
     "output_type": "execute_result"
    }
   ],
   "source": [
    "knn_clf.score(X_test, y_test)"
   ]
  },
  {
   "cell_type": "code",
   "execution_count": null,
   "metadata": {},
   "outputs": [],
   "source": []
  },
  {
   "cell_type": "markdown",
   "metadata": {},
   "source": [
    "### 最值归一化"
   ]
  },
  {
   "cell_type": "code",
   "execution_count": 53,
   "metadata": {},
   "outputs": [],
   "source": [
    "x = np.random.randint(0, 100, size=100)"
   ]
  },
  {
   "cell_type": "code",
   "execution_count": 54,
   "metadata": {},
   "outputs": [
    {
     "data": {
      "text/plain": [
       "array([44, 48, 80, 64, 29, 92, 66, 74, 49, 42, 10, 84, 23,  0, 42, 93, 11,\n",
       "       39, 29, 79, 26, 63, 89,  6, 20,  2, 77, 49, 48, 89, 46, 63, 28, 16,\n",
       "       82, 16, 27,  8, 21, 27,  2, 43, 44, 23, 96,  7, 94, 67, 20, 52, 40,\n",
       "       62, 44, 53, 93, 82, 46, 29, 49,  6, 80, 21, 40, 40, 84, 71, 74, 61,\n",
       "        9, 39, 73, 94, 92, 55, 23, 87, 82, 80,  3, 30, 19, 86, 18, 59, 93,\n",
       "       71, 68, 96, 21, 68, 23, 86,  0, 98, 34, 37, 93, 38, 84, 15])"
      ]
     },
     "execution_count": 54,
     "metadata": {},
     "output_type": "execute_result"
    }
   ],
   "source": [
    "x"
   ]
  },
  {
   "cell_type": "code",
   "execution_count": 55,
   "metadata": {},
   "outputs": [
    {
     "data": {
      "text/plain": [
       "array([0.44897959, 0.48979592, 0.81632653, 0.65306122, 0.29591837,\n",
       "       0.93877551, 0.67346939, 0.75510204, 0.5       , 0.42857143,\n",
       "       0.10204082, 0.85714286, 0.23469388, 0.        , 0.42857143,\n",
       "       0.94897959, 0.1122449 , 0.39795918, 0.29591837, 0.80612245,\n",
       "       0.26530612, 0.64285714, 0.90816327, 0.06122449, 0.20408163,\n",
       "       0.02040816, 0.78571429, 0.5       , 0.48979592, 0.90816327,\n",
       "       0.46938776, 0.64285714, 0.28571429, 0.16326531, 0.83673469,\n",
       "       0.16326531, 0.2755102 , 0.08163265, 0.21428571, 0.2755102 ,\n",
       "       0.02040816, 0.43877551, 0.44897959, 0.23469388, 0.97959184,\n",
       "       0.07142857, 0.95918367, 0.68367347, 0.20408163, 0.53061224,\n",
       "       0.40816327, 0.63265306, 0.44897959, 0.54081633, 0.94897959,\n",
       "       0.83673469, 0.46938776, 0.29591837, 0.5       , 0.06122449,\n",
       "       0.81632653, 0.21428571, 0.40816327, 0.40816327, 0.85714286,\n",
       "       0.7244898 , 0.75510204, 0.62244898, 0.09183673, 0.39795918,\n",
       "       0.74489796, 0.95918367, 0.93877551, 0.56122449, 0.23469388,\n",
       "       0.8877551 , 0.83673469, 0.81632653, 0.03061224, 0.30612245,\n",
       "       0.19387755, 0.87755102, 0.18367347, 0.60204082, 0.94897959,\n",
       "       0.7244898 , 0.69387755, 0.97959184, 0.21428571, 0.69387755,\n",
       "       0.23469388, 0.87755102, 0.        , 1.        , 0.34693878,\n",
       "       0.37755102, 0.94897959, 0.3877551 , 0.85714286, 0.15306122])"
      ]
     },
     "execution_count": 55,
     "metadata": {},
     "output_type": "execute_result"
    }
   ],
   "source": [
    "(x - np.min(x)) / (np.max(x) - np.min(x))"
   ]
  },
  {
   "cell_type": "code",
   "execution_count": 62,
   "metadata": {},
   "outputs": [],
   "source": [
    "X = np.random.randint(0, 100, (50,2))"
   ]
  },
  {
   "cell_type": "code",
   "execution_count": 63,
   "metadata": {},
   "outputs": [],
   "source": [
    "X = np.array(X, dtype=float)"
   ]
  },
  {
   "cell_type": "code",
   "execution_count": 64,
   "metadata": {},
   "outputs": [],
   "source": [
    "X[:, 0] = (X[:, 0] - np.min(X[:, 0])) / (np.max(X[:, 0]) - np.min(X[:, 0]))"
   ]
  },
  {
   "cell_type": "code",
   "execution_count": 65,
   "metadata": {},
   "outputs": [],
   "source": [
    "X[:, 1] = (X[:, 1] - np.min(X[:, 1])) / (np.max(X[:, 1]) - np.min(X[:, 1]))"
   ]
  },
  {
   "cell_type": "code",
   "execution_count": 66,
   "metadata": {},
   "outputs": [
    {
     "data": {
      "text/plain": [
       "array([[0.48979592, 0.81914894],\n",
       "       [0.79591837, 0.31914894],\n",
       "       [0.79591837, 0.69148936],\n",
       "       [0.24489796, 0.78723404],\n",
       "       [0.62244898, 0.31914894],\n",
       "       [0.20408163, 0.71276596],\n",
       "       [0.08163265, 0.22340426],\n",
       "       [0.68367347, 0.0212766 ],\n",
       "       [0.05102041, 0.54255319],\n",
       "       [0.66326531, 0.        ],\n",
       "       [0.45918367, 0.77659574],\n",
       "       [0.86734694, 0.70212766],\n",
       "       [0.85714286, 0.13829787],\n",
       "       [0.28571429, 0.78723404],\n",
       "       [0.90816327, 1.        ],\n",
       "       [0.59183673, 0.29787234],\n",
       "       [0.55102041, 0.82978723],\n",
       "       [0.26530612, 0.34042553],\n",
       "       [0.        , 0.59574468],\n",
       "       [0.42857143, 0.35106383],\n",
       "       [0.86734694, 0.90425532],\n",
       "       [0.06122449, 0.09574468],\n",
       "       [0.02040816, 0.28723404],\n",
       "       [0.08163265, 0.15957447],\n",
       "       [0.13265306, 0.73404255],\n",
       "       [0.57142857, 0.67021277],\n",
       "       [0.74489796, 0.43617021],\n",
       "       [0.33673469, 0.5212766 ],\n",
       "       [0.65306122, 0.34042553],\n",
       "       [0.45918367, 0.13829787],\n",
       "       [0.87755102, 0.        ],\n",
       "       [0.69387755, 0.40425532],\n",
       "       [0.51020408, 0.93617021],\n",
       "       [0.92857143, 0.75531915],\n",
       "       [0.09183673, 0.93617021],\n",
       "       [0.2755102 , 0.61702128],\n",
       "       [0.63265306, 0.59574468],\n",
       "       [0.43877551, 0.34042553],\n",
       "       [0.17346939, 0.32978723],\n",
       "       [0.09183673, 0.34042553],\n",
       "       [0.57142857, 0.5       ],\n",
       "       [0.71428571, 0.15957447],\n",
       "       [0.3877551 , 0.81914894],\n",
       "       [0.5       , 0.03191489],\n",
       "       [1.        , 0.70212766],\n",
       "       [0.46938776, 0.74468085],\n",
       "       [0.95918367, 0.29787234],\n",
       "       [0.25510204, 0.96808511],\n",
       "       [0.96938776, 0.76595745],\n",
       "       [0.48979592, 0.17021277]])"
      ]
     },
     "execution_count": 66,
     "metadata": {},
     "output_type": "execute_result"
    }
   ],
   "source": [
    "X"
   ]
  },
  {
   "cell_type": "code",
   "execution_count": 67,
   "metadata": {},
   "outputs": [
    {
     "ename": "SyntaxError",
     "evalue": "invalid syntax (<ipython-input-67-2e5eb3528793>, line 1)",
     "output_type": "error",
     "traceback": [
      "\u001b[1;36m  File \u001b[1;32m\"<ipython-input-67-2e5eb3528793>\"\u001b[1;36m, line \u001b[1;32m1\u001b[0m\n\u001b[1;33m    np.mean(X[;, 0])\u001b[0m\n\u001b[1;37m              ^\u001b[0m\n\u001b[1;31mSyntaxError\u001b[0m\u001b[1;31m:\u001b[0m invalid syntax\n"
     ]
    }
   ],
   "source": [
    "np.mean(X[;, 0])"
   ]
  },
  {
   "cell_type": "code",
   "execution_count": 69,
   "metadata": {},
   "outputs": [
    {
     "data": {
      "text/plain": [
       "0.4961224489795918"
      ]
     },
     "execution_count": 69,
     "metadata": {},
     "output_type": "execute_result"
    }
   ],
   "source": [
    "np.mean(X[:, 0])"
   ]
  },
  {
   "cell_type": "code",
   "execution_count": 72,
   "metadata": {},
   "outputs": [
    {
     "data": {
      "image/png": "[encoded data removed]",
      "text/plain": [
       "<matplotlib.figure.Figure at 0x1be374ba710>"
      ]
     },
     "metadata": {},
     "output_type": "display_data"
    }
   ],
   "source": [
    "import matplotlib\n",
    "import matplotlib.pyplot as plt\n",
    "plt.scatter(X[:, 0], X[:, 1])\n",
    "plt.show()"
   ]
  },
  {
   "cell_type": "code",
   "execution_count": 73,
   "metadata": {},
   "outputs": [
    {
     "data": {
      "text/plain": [
       "0.4961224489795918"
      ]
     },
     "execution_count": 73,
     "metadata": {},
     "output_type": "execute_result"
    }
   ],
   "source": [
    "np.mean(X[:, 0])"
   ]
  },
  {
   "cell_type": "code",
   "execution_count": 74,
   "metadata": {},
   "outputs": [
    {
     "data": {
      "text/plain": [
       "0.29129312864736073"
      ]
     },
     "execution_count": 74,
     "metadata": {},
     "output_type": "execute_result"
    }
   ],
   "source": [
    "np.std(X[:, 0])"
   ]
  },
  {
   "cell_type": "code",
   "execution_count": 75,
   "metadata": {},
   "outputs": [
    {
     "data": {
      "text/plain": [
       "0.4991489361702128"
      ]
     },
     "execution_count": 75,
     "metadata": {},
     "output_type": "execute_result"
    }
   ],
   "source": [
    "np.mean(X[:, 1])"
   ]
  },
  {
   "cell_type": "code",
   "execution_count": 76,
   "metadata": {},
   "outputs": [
    {
     "data": {
      "text/plain": [
       "0.2896028407004731"
      ]
     },
     "execution_count": 76,
     "metadata": {},
     "output_type": "execute_result"
    }
   ],
   "source": [
    "np.std(X[:, 1])"
   ]
  },
  {
   "cell_type": "markdown",
   "metadata": {},
   "source": [
    "### 均值方差归一化 Standardization"
   ]
  },
  {
   "cell_type": "code",
   "execution_count": 77,
   "metadata": {},
   "outputs": [],
   "source": [
    "X2 = np.random.randint(0, 100, (50, 2))"
   ]
  },
  {
   "cell_type": "code",
   "execution_count": 78,
   "metadata": {},
   "outputs": [],
   "source": [
    "X2 = np.array(X2, dtype=float)"
   ]
  },
  {
   "cell_type": "code",
   "execution_count": 79,
   "metadata": {},
   "outputs": [],
   "source": [
    "X2[:, 0] = (X2[:, 0] - np.mean(X2[:, 0])) / np.std(X2[:, 0])\n",
    "X2[:, 1] = (X2[:, 1] - np.mean(X2[:, 1])) / np.std(X2[:, 1])"
   ]
  },
  {
   "cell_type": "code",
   "execution_count": 80,
   "metadata": {},
   "outputs": [
    {
     "data": {
      "image/png": "[encoded data removed]",
      "text/plain": [
       "<matplotlib.figure.Figure at 0x1be3760f828>"
      ]
     },
     "metadata": {},
     "output_type": "display_data"
    }
   ],
   "source": [
    "plt.scatter(X2[:, 0], X2[:, 1])\n",
    "plt.show()"
   ]
  },
  {
   "cell_type": "code",
   "execution_count": null,
   "metadata": {},
   "outputs": [],
   "source": []
  }
 ],
 "metadata": {
  "kernelspec": {
   "display_name": "Python 3",
   "language": "python",
   "name": "python3"
  },
  "language_info": {
   "codemirror_mode": {
    "name": "ipython",
    "version": 3
   },
   "file_extension": ".py",
   "mimetype": "text/x-python",
   "name": "python",
   "nbconvert_exporter": "python",
   "pygments_lexer": "ipython3",
   "version": "3.6.4"
  }
 },
 "nbformat": 4,
 "nbformat_minor": 2
}
